{
 "cells": [
  {
   "cell_type": "markdown",
   "id": "19b0a453",
   "metadata": {},
   "source": [
    "# Assignment 1 using C#"
   ]
  },
  {
   "cell_type": "code",
   "execution_count": null,
   "id": "69a61313",
   "metadata": {},
   "outputs": [],
   "source": [
    "Q1 \n",
    "What data type is each of the following?\n",
    "5 \n",
    "5.0\n",
    "5 > 1\n",
    "'5'\n",
    "5 * 2\n",
    "'5' * 2\n",
    "'5' + '2'\n",
    "5 / 2\n",
    "5 % 2\n",
    "{5, 2, 1}\n",
    "5 == 3\n",
    "Pi (the number)"
   ]
  },
  {
   "cell_type": "code",
   "execution_count": 80,
   "id": "490b7a4b",
   "metadata": {},
   "outputs": [
    {
     "name": "stdout",
     "output_type": "stream",
     "text": [
      "System.Int32\n",
      "System.Double\n",
      "System.Boolean\n",
      "System.Char\n",
      "System.Int32\n",
      "System.Int32\n",
      "System.Int32\n",
      "System.Int32\n",
      "System.Int32\n",
      "System.Boolean\n",
      "System.Double\n"
     ]
    }
   ],
   "source": [
    "using System;\n",
    "Console.WriteLine(5.GetType());\n",
    "Console.WriteLine((5.0).GetType());\n",
    "Console.WriteLine((5 > 1).GetType());\n",
    "Console.WriteLine(('5').GetType());\n",
    "Console.WriteLine((5 * 2).GetType());\n",
    "Console.WriteLine(('5' * 2).GetType());\n",
    "Console.WriteLine(('5' + '2').GetType());\n",
    "Console.WriteLine((5 / 2).GetType());\n",
    "Console.WriteLine((5 % 2).GetType());\n",
    "Console.WriteLine((5 == 3).GetType());\n",
    "Console.WriteLine((3.14).GetType());"
   ]
  },
  {
   "cell_type": "markdown",
   "id": "ec0b5641",
   "metadata": {},
   "source": [
    "Q2(a)\n",
    "How many letters are there in 'Supercalifragilisticexpialidocious'?"
   ]
  },
  {
   "cell_type": "code",
   "execution_count": 81,
   "id": "0d73c016",
   "metadata": {},
   "outputs": [
    {
     "name": "stdout",
     "output_type": "stream",
     "text": [
      "34\r\n"
     ]
    }
   ],
   "source": [
    "int count = 0;\n",
    "string str = \"Supercalifragilisticexpialidocious\";\n",
    "foreach(char ch in str)\n",
    "{\n",
    "    ++count;\n",
    "}\n",
    "Console.WriteLine(count);"
   ]
  },
  {
   "cell_type": "markdown",
   "id": "2a631e36",
   "metadata": {},
   "source": [
    "Q2(b)\n",
    "\n",
    "Does 'Supercalifragilisticexpialidocious' contain 'ice' as a substring?"
   ]
  },
  {
   "cell_type": "code",
   "execution_count": 84,
   "id": "b32f6494",
   "metadata": {},
   "outputs": [
    {
     "name": "stdout",
     "output_type": "stream",
     "text": [
      "True\r\n"
     ]
    }
   ],
   "source": [
    "if(str.Contains(\"ice\"))\n",
    "    Console.WriteLine(\"True\");\n",
    "else\n",
    "    Console.WriteLine(\"False\");"
   ]
  },
  {
   "cell_type": "markdown",
   "id": "53f6edbe",
   "metadata": {},
   "source": [
    "Q2(c)\n",
    "\n",
    "Which of the following words is the longest:\n",
    "Supercalifragilisticexpialidocious, Honorificabilitudinitatibus, or\n",
    "Bababadalgharaghtakamminarronnkonn?"
   ]
  },
  {
   "cell_type": "code",
   "execution_count": 83,
   "id": "cf0a8e27",
   "metadata": {},
   "outputs": [
    {
     "name": "stdout",
     "output_type": "stream",
     "text": [
      "Bababadalgharaghtakamminarronnkonn is the longest word\r\n"
     ]
    }
   ],
   "source": [
    "string str1 = \"Supercalifragilisticexpialidocious\";\n",
    "string str2 = \"Honorificabilitudinitatibus\";\n",
    "string str3 = \"Bababadalgharaghtakamminarronnkonn\";\n",
    "\n",
    "int count1 = str1.Length;\n",
    "int count2 = str2.Length;\n",
    "int count3 = str3.Length;\n",
    "\n",
    "if(count1 > count2)\n",
    "{\n",
    "    if(count1 > count3)\n",
    "        Console.WriteLine(str1 + \" is the longest word\");\n",
    "    else\n",
    "        Console.WriteLine(str3 + \" is the longest word\");\n",
    "}\n",
    "\n",
    "else\n",
    "{\n",
    "    if(count2 > count3)\n",
    "        Console.WriteLine(str2 + \" is the longest word\");\n",
    "    else\n",
    "        Console.WriteLine(str3 + \" is the longest word\");\n",
    "}\n"
   ]
  },
  {
   "cell_type": "markdown",
   "id": "02e8396a",
   "metadata": {},
   "source": [
    "Q2(d)\n",
    "\n",
    "Which composer comes first in the dictionary: 'Berlioz', 'Borodin', 'Brian',\n",
    "'Bartok', 'Bellini', 'Buxtehude', 'Bernstein'. Which one comes last?"
   ]
  },
  {
   "cell_type": "code",
   "execution_count": 85,
   "id": "0cc46216",
   "metadata": {},
   "outputs": [
    {
     "name": "stdout",
     "output_type": "stream",
     "text": [
      "First in the dictionary: Bartok\n",
      "Last in dictionary: Buxtehude\n"
     ]
    }
   ],
   "source": [
    "using System.Collections.Generic;\n",
    "var slist = new SortedSet<String>();\n",
    "\n",
    "slist.Add(\"Berlioz\");\n",
    "slist.Add(\"Borodin\");\n",
    "slist.Add(\"Brian\");\n",
    "slist.Add(\"Bartok\");\n",
    "slist.Add(\"Bellini\");\n",
    "slist.Add(\"Buxtehude\");\n",
    "slist.Add(\"Bernstein\");\n",
    "\n",
    "int counter = 0;\n",
    "\n",
    "foreach(string s in slist)\n",
    "{\n",
    "    ++counter;\n",
    "    if(counter == 1) \n",
    "        Console.WriteLine(\"First in the dictionary: \" + s);\n",
    "    if(counter == 7) \n",
    "        Console.WriteLine(\"Last in dictionary: \" + s);\n",
    "}"
   ]
  },
  {
   "cell_type": "markdown",
   "id": "8657e970",
   "metadata": {},
   "source": [
    "Q3\n",
    "\n",
    "Implement function triangleArea(a,b,c) that takes as input the lengths of the 3\n",
    "sides of a triangle and returns the area of the triangle. By Heron's formula, the area\n",
    "of a triangle with side lengths a, b, and c is\n",
    "s(s - a)(s -b)(s -c), where\n",
    "s = (a +b + c) /2.\n",
    "-> triangleArea(2,2,2)\n",
    "1.7320508075688772"
   ]
  },
  {
   "cell_type": "code",
   "execution_count": 88,
   "id": "12e5c97d",
   "metadata": {},
   "outputs": [
    {
     "name": "stdout",
     "output_type": "stream",
     "text": [
      "1.7320508075688772\r\n"
     ]
    }
   ],
   "source": [
    "public double triangleArea(double a, double b, double c)\n",
    "{\n",
    "    double s = (a + b + c)/2;\n",
    "    \n",
    "    double area = s * (s-a);\n",
    "    area *= (s-b);\n",
    "    area *= (s-c);\n",
    "    \n",
    "    return Math.Sqrt(area);\n",
    "    \n",
    "}\n",
    "\n",
    "Console.WriteLine(triangleArea(2,2,2));"
   ]
  },
  {
   "cell_type": "markdown",
   "id": "2d7cfa1b",
   "metadata": {},
   "source": [
    "Q4\n",
    "\n",
    "Write a program in C# Sharp to separate odd and even integers in separate arrays.\n",
    "Go to the editor\n",
    "Test Data :\n",
    "Input the number of elements to be stored in the array :5\n",
    "Input 5 elements in the array :\n",
    "element - 0 : 25\n",
    "element - 1 : 47\n",
    "element - 2 : 42\n",
    "element - 3 : 56\n",
    "element - 4 : 32\n",
    "Expected Output:\n",
    "The Even elements are:\n",
    "42 56 32\n",
    "The Odd elements are :\n",
    "25 47"
   ]
  },
  {
   "cell_type": "code",
   "execution_count": 89,
   "id": "a2862701",
   "metadata": {},
   "outputs": [
    {
     "name": "stdout",
     "output_type": "stream",
     "text": [
      "The Even numbers are: \n",
      "42\n",
      "56\n",
      "32\n",
      "The Odd numbers are: \n",
      "25\n",
      "47\n"
     ]
    }
   ],
   "source": [
    "int[] arr = new int[5]{25, 47, 42, 56, 32};\n",
    "\n",
    "//Creating arrays for even and odd elements\n",
    "int[] even = new int[5];\n",
    "int[] odd = new int[5];\n",
    "\n",
    "int e_index=0;\n",
    "int o_index=0;\n",
    "\n",
    "foreach(int i in arr)\n",
    "{\n",
    "    if(i % 2 == 0)\n",
    "        even[e_index++] = i;\n",
    "    else\n",
    "        odd[o_index++] = i;\n",
    "}\n",
    "\n",
    "Console.WriteLine(\"The Even numbers are: \");\n",
    "for(int i=0; i<e_index; i++)\n",
    "{\n",
    "    Console.WriteLine(even[i]);\n",
    "}\n",
    "\n",
    "Console.WriteLine(\"The Odd numbers are: \");\n",
    "for(int i=0; i<o_index; i++)\n",
    "{\n",
    "    Console.WriteLine(odd[i]);\n",
    "}"
   ]
  },
  {
   "cell_type": "markdown",
   "id": "35cb8d5e",
   "metadata": {},
   "source": [
    "Q5\n",
    "\n",
    "a. Write a function inside(x,y,x1,y1,x2,y2) that returns True or False depending on whether the point (x,y) lies in the rectangle with lower left corner (x1,y1) and upper right corner (x2,y2).\n",
    "-> inside(1,1,0,0,2,3)\n",
    "True\n",
    "-> inside(-1,-1,0,0,2,3)\n",
    "False\n",
    "\n",
    "b. Use function inside() from part a. to write an expression that tests whether the point (1,1) lies in both of the following rectangles: one with lower left corner (0.3, 0.5) and upper right corner (1.1, 0.7) and the other with lower left corner (0.5, 0.2) and upper right corner (1.1, 2)."
   ]
  },
  {
   "cell_type": "code",
   "execution_count": 90,
   "id": "e34e3c5b",
   "metadata": {},
   "outputs": [
    {
     "name": "stdout",
     "output_type": "stream",
     "text": [
      "False\r\n"
     ]
    }
   ],
   "source": [
    "public Boolean inside(double x, double y, double x1, double y1, double x2, double y2)\n",
    "{\n",
    "    if(x >= x1 && y >= y1 && x <= x2 && y <= y2)\n",
    "    {\n",
    "        return true;\n",
    "    }\n",
    "    else\n",
    "    {\n",
    "        return false;\n",
    "    }\n",
    "}\n",
    "\n",
    "Console.WriteLine(inside(1,1,0.3,0.5,1.1,0.7) && inside(1,1,0.5,0.2,1.1,2));"
   ]
  },
  {
   "cell_type": "code",
   "execution_count": null,
   "id": "62921031",
   "metadata": {},
   "outputs": [],
   "source": []
  }
 ],
 "metadata": {
  "kernelspec": {
   "display_name": ".NET (C#)",
   "language": "C#",
   "name": ".net-csharp"
  },
  "language_info": {
   "file_extension": ".cs",
   "mimetype": "text/x-csharp",
   "name": "C#",
   "pygments_lexer": "csharp",
   "version": "8.0"
  }
 },
 "nbformat": 4,
 "nbformat_minor": 5
}
