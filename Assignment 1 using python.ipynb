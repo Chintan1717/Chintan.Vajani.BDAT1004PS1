{
 "cells": [
  {
   "cell_type": "markdown",
   "id": "cdab0586",
   "metadata": {},
   "source": [
    "# Assignment 1 using Python"
   ]
  },
  {
   "cell_type": "raw",
   "id": "4e1c0ffe",
   "metadata": {},
   "source": [
    "Question 6 Python\n",
    "\n",
    "16. You can turn a word into pig-Latin using the following two rules (simplified):\n",
    "• If the word starts with a consonant, move that letter to the end and append \n",
    "'ay'. For example, 'happy' becomes 'appyhay' and 'pencil' becomes 'encilpay'.\n",
    "• If the word starts with a vowel, simply append 'way' to the end of the word. \n",
    "For example, 'enter' becomes 'enterway' and 'other' becomes 'otherway' . For \n",
    "our purposes, there are 5 vowels: a, e, i, o, u (so we count y as a consonant).\n",
    "Write a function pig() that takes a word (i.e., a string) as input and returns its pig-Latin form. Your function should still work if the input word contains upper case \n",
    "characters. Your output should always be lower case however. \n",
    ">>> pig('happy')\n",
    "'appyhay'\n",
    ">>> pig('Enter')\n",
    "'enterway' "
   ]
  },
  {
   "cell_type": "code",
   "execution_count": 3,
   "id": "8c68a86f",
   "metadata": {},
   "outputs": [
    {
     "name": "stdout",
     "output_type": "stream",
     "text": [
      "appyhay\n",
      "enterway\n"
     ]
    }
   ],
   "source": [
    "def pig(str):\n",
    "    consonants = ('b','c','d','f','g','h','j','k','l','m','n','p','q','r','s','t','v','x','y','z')\n",
    "    vowels = ('a','e','i','o','u')\n",
    "    \n",
    "    if str[0] in consonants:\n",
    "        ch = str[0]\n",
    "        str = str[1:]\n",
    "        str = str + ch + \"ay\"\n",
    "        \n",
    "    else:\n",
    "        str = str + \"way\"\n",
    "        \n",
    "    return str\n",
    "\n",
    "print(pig(\"happy\"))\n",
    "print(pig(\"enter\"))"
   ]
  },
  {
   "cell_type": "raw",
   "id": "07088127",
   "metadata": {},
   "source": [
    "Question 7\n",
    "\n",
    "File bloodtype1.txt records blood-types of patients (A, B, AB, O or OO) at a clinic. Write a function bldcount() that reads the file with name name and reports (i.e., prints) how many patients there are in each bloodtype."
   ]
  },
  {
   "cell_type": "code",
   "execution_count": 9,
   "id": "9b0d8518",
   "metadata": {},
   "outputs": [
    {
     "name": "stdout",
     "output_type": "stream",
     "text": [
      "['AB', 'AB', 'B', 'O', 'A', 'A', 'AB', 'O', 'AB', 'A', 'O', 'O', 'A', 'A', 'A', 'O', 'O', 'O', 'AB', 'O', 'A', 'A', 'A', 'A', 'A', 'AB', 'AB', 'A', 'AB', 'O', 'AB', 'O', 'A', 'O', 'O', 'O', 'AB', 'O', 'AB', 'AB', 'AB', 'A', 'A', 'O']\n",
      "There are 15 patients of blood type A\n",
      "There are 1 patients of blood type B\n",
      "There are 13 patients of blood type AB\n",
      "There are 15 patients of blood type O\n",
      "There are 0 patients of blood type OO\n"
     ]
    }
   ],
   "source": [
    "def bldcount(file):\n",
    "    \n",
    "    f = open(file, 'r')\n",
    "    abc = f.read().split()\n",
    "    \n",
    "    Acount = 0\n",
    "    Bcount = 0\n",
    "    ABcount = 0\n",
    "    Ocount = 0\n",
    "    OOcount = 0\n",
    "    \n",
    "    print(abc)\n",
    "    \n",
    "    for word in abc:\n",
    "        if word == 'A':\n",
    "            Acount += 1\n",
    "        elif word == 'B':\n",
    "            Bcount += 1\n",
    "        elif word == 'AB':\n",
    "            ABcount += 1\n",
    "        elif word == 'O':\n",
    "            Ocount += 1\n",
    "        elif word == 'OO':\n",
    "            OOcount += 1\n",
    "    \n",
    "    f.close()\n",
    "        \n",
    "    print(\"There are \" + str(Acount) + \" patients of blood type A\")\n",
    "    print(\"There are \" + str(Bcount) + \" patients of blood type B\")\n",
    "    print(\"There are \" + str(ABcount) + \" patients of blood type AB\")\n",
    "    print(\"There are \" + str(Ocount) + \" patients of blood type O\")\n",
    "    print(\"There are \" + str(OOcount) + \" patients of blood type OO\")\n",
    "    \n",
    "bldcount('bloodtype1.txt')"
   ]
  },
  {
   "cell_type": "markdown",
   "id": "5966c310",
   "metadata": {},
   "source": [
    "Question 8\n",
    "\n",
    "Write a function curconv() that takes as input:\n",
    "\n",
    "1.a currency represented using a string (e.g., 'JPY' for the Japanese Yen or 'EUR' for the Euro)\n",
    "\n",
    "2.an amount\n",
    "and then converts and returns the amount in US dollars."
   ]
  },
  {
   "cell_type": "code",
   "execution_count": 13,
   "id": "a2fda38d",
   "metadata": {},
   "outputs": [
    {
     "name": "stdout",
     "output_type": "stream",
     "text": [
      "1.77643\n",
      "103.45157\n"
     ]
    }
   ],
   "source": [
    "def conv(cur, amount):\n",
    "    \n",
    "    f = open('currencies.txt', 'r')\n",
    "    lines = f.readlines()         \n",
    "    \n",
    "    for line in lines:\n",
    "        words = line.split()          \n",
    "        if words[0] == cur:\n",
    "            output = amount * float(words[1])\n",
    "            \n",
    "    f.close()        \n",
    "    return output\n",
    "\n",
    "print(conv('INR', 100))\n",
    "print(conv('AUD', 100))"
   ]
  },
  {
   "cell_type": "raw",
   "id": "2c2995bd",
   "metadata": {},
   "source": [
    "Question 9 Python\n",
    "Each of the following will cause an exception (an error). Identify what type of \n",
    "exception each will cause.\n",
    "\n",
    "1)Trying to add incompatible variables, as in \n",
    "adding 6 + ‘a’\n",
    "->As both variable are of different types.TypeError\n",
    "\n",
    "2)Referring to the 12th item of a list that has only 10 \n",
    "items\n",
    "->IndexError. As the list only contains 10 elements.\n",
    "\n",
    "3)Using a value that is out of range for a function’s \n",
    "input, such as calling math.sqrt(-1.0)\n",
    "->It will show ValueError as we are trying to input number out of funstions domain.\n",
    "\n",
    "4)Using an undeclared variable, such as print(x)\n",
    "when x has not been defined \n",
    "->As x is not defined it will give NameError\n",
    "\n",
    "5)Trying to open a file that does not exist, such as \n",
    "mistyping the file name or looking in the wrong \n",
    "directory. \n",
    "->As we try to access the file does not exist it will give FileNotFoundError."
   ]
  },
  {
   "cell_type": "raw",
   "id": "194e3267",
   "metadata": {},
   "source": [
    "Question 10 Python\n",
    "Encryption is the process of hiding the meaning of a text by substituting letters in the \n",
    "message with other letters, according to some system. If the process is successful, no \n",
    "one but the intended recipient can understand the encrypted message. Cryptanalysis\n",
    "refers to attempts to undo the encryption, even if some details of the encryption are \n",
    "unknown (for example, if an encrypted message has been intercepted). The first step \n",
    "of cryptanalysis is often to build up a table of letter frequencies in the encrypted text. \n",
    "Assume that the string letters is already defined as \n",
    "'abcdefghijklmnopqrstuvwxyz'. Write a function called frequencies()\n",
    "that takes a string as its only parameter, and returns a list of integers, showing the \n",
    "number of times each character appears in the text. Your function may ignore any \n",
    "characters that are not in letters. \n",
    ">>> frequencies('The quick red fox got bored and went home.')\n",
    "[1, 1, 1, 3, 5, 1, 1, 2, 1, 0, 1, 0, 1, 2, 4, 0, 1, 2, 0, 2, \n",
    "1, 0, 1, 1, 0, 0]\n",
    ">>> frequencies('apple')"
   ]
  },
  {
   "cell_type": "code",
   "execution_count": 17,
   "id": "605af1e6",
   "metadata": {},
   "outputs": [
    {
     "name": "stdout",
     "output_type": "stream",
     "text": [
      "[1, 1, 1, 3, 5, 1, 1, 2, 1, 0, 1, 0, 1, 2, 4, 0, 1, 2, 0, 2, 1, 0, 1, 1, 0, 0]\n",
      "[1, 0, 0, 0, 1, 0, 0, 0, 0, 0, 0, 1, 0, 0, 0, 2, 0, 0, 0, 0, 0, 0, 0, 0, 0, 0]\n"
     ]
    }
   ],
   "source": [
    "def frequencies(str):\n",
    "    \n",
    "    list = [0,0,0,0,0,0,0,0,0,0,0,0,0,0,0,0,0,0,0,0,0,0,0,0,0,0]\n",
    "    \n",
    "    for char in str:\n",
    "    ##to get the ascii value of word ord() is used \n",
    "        diff = ord(char) - ord('a')   \n",
    "        \n",
    "        if diff < 26 and diff > -1:\n",
    "            list[diff] += 1\n",
    "        \n",
    "    return list\n",
    "\n",
    "print(frequencies(\"The quick red fox got bored and went home.\"))\n",
    "print(frequencies(\"apple\"))"
   ]
  },
  {
   "cell_type": "code",
   "execution_count": null,
   "id": "35ac9499",
   "metadata": {},
   "outputs": [],
   "source": []
  }
 ],
 "metadata": {
  "kernelspec": {
   "display_name": "Python 3 (ipykernel)",
   "language": "python",
   "name": "python3"
  },
  "language_info": {
   "codemirror_mode": {
    "name": "ipython",
    "version": 3
   },
   "file_extension": ".py",
   "mimetype": "text/x-python",
   "name": "python",
   "nbconvert_exporter": "python",
   "pygments_lexer": "ipython3",
   "version": "3.9.7"
  }
 },
 "nbformat": 4,
 "nbformat_minor": 5
}
